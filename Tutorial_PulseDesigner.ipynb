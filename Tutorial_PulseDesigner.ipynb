{
 "cells": [
  {
   "cell_type": "markdown",
   "metadata": {},
   "source": [
    "# PulseDesigner - Tutorial\n",
    "\n",
    "`PulseDesigner` is an interactive tool for the construction of pulses utilized to control quantum hardware based on superconducting qubits.\n",
    "\n",
    "This notebook explains some of the main features of the tool, and how the data can be exported to other quantum hardware-level programming interfaces.\n",
    "\n",
    "### Running PulseDesigner\n",
    "\n",
    "To run the tool, execute the [first code cell](#code_cell). This should launch the widget as shown in the image below:\n",
    "\n",
    "<img src=\"images/pulseDesigner_01.png\" align = \"Left\" width=\"800\"/>"
   ]
  },
  {
   "cell_type": "markdown",
   "metadata": {},
   "source": [
    "On the top part of the tool, you will find two drop-down menus: one to select the type of signal for the in-phase component, and one for the quadrature component.\n",
    "\n",
    "The sliders next to each of these menus control each of the signal properties. The slider right below, the number of samples.\n",
    "\n",
    "The two stack figures show a live plot of the parameters selected with the sliders. All amplitudes are normalized to have a max value of `1`, and the time axis is given in samples (i.e., it is independent of the time resolution of a given backend).\n",
    "\n",
    "### Example\n",
    "\n",
    "As an example, consider changing the number of samples to `100`, selecting a `Gaussian` signal for the in-phase component with Sigma of `10` and Amplitude of `0.80`, and a `Gaussian Derivative` signal for the quadrature component, with sigma of `15` and Amplitude of `0.05`. These options should generate the following signal:\n",
    "\n",
    "<img src=\"images/pulseDesigner_02.png\" align = \"Left\" width=\"800\"/>"
   ]
  },
  {
   "cell_type": "markdown",
   "metadata": {},
   "source": [
    "To run the tool, execute the code below:\n",
    " <a id=\"code_cell\"></a>"
   ]
  },
  {
   "cell_type": "code",
   "execution_count": null,
   "metadata": {},
   "outputs": [],
   "source": [
    "%config InlineBackend.figure_format = 'svg'\n",
    "from pulsemaker import PulseDesigner\n",
    "pulse_d = PulseDesigner()\n",
    "pulse_d"
   ]
  },
  {
   "cell_type": "markdown",
   "metadata": {},
   "source": [
    "### Amplitude Control\n",
    "\n",
    "An important aspect about the tool is that it guarantees that the norm of the total signal is never greater than `1`:\n",
    "\n",
    "$$ \\sqrt{I^2 + Q^2} \\leq 1 $$\n",
    "\n",
    "This is acheived by readjusting the maximum allowable value of the quadrature signal $Q$ depending on what the value of the in-phase signal $I$ is. So, for example, if we select `Gaussian` signals for both $I$ and $Q$, and set the amplitude of $I$ to `0.8`, the maximum allowable amplitude for $Q$ will be:\n",
    "\n",
    "$$ \n",
    "\\begin{align}\n",
    "Q_{max} = \\sqrt{1 - I^2} = \\sqrt{1 - 0.64} =  0.6\n",
    "\\end{align}\n",
    "$$\n",
    "\n",
    "If we set the maximum value of $I$ to `1`, the tool will automatically set $Q$ to `0`, and will \"gray out\" the amplitude slider. To make the slider active again, simply reduce the value of the amplitude for $I$.\n",
    "\n",
    "Since the `PulseDesigner` is a widget you can bring the same from above right here by executing the next cell."
   ]
  },
  {
   "cell_type": "code",
   "execution_count": null,
   "metadata": {},
   "outputs": [],
   "source": [
    "pulse_d"
   ]
  },
  {
   "cell_type": "markdown",
   "metadata": {},
   "source": [
    "### Exporting to Qiskit\n",
    "\n",
    "To obtain a pulse waveform that can be interpreted by `qiskit-pulse`, simply use the `.pulse` attribute as shown below:"
   ]
  },
  {
   "cell_type": "code",
   "execution_count": null,
   "metadata": {},
   "outputs": [],
   "source": [
    "from qiskit.pulse import library\n",
    "\n",
    "qiskit_waveform = pulse_d.pulse\n",
    "qiskit_pulse = library.Waveform(qiskit_waveform, name=\"Waveform\")\n",
    "qiskit_pulse.draw()"
   ]
  },
  {
   "cell_type": "code",
   "execution_count": null,
   "metadata": {},
   "outputs": [],
   "source": []
  }
 ],
 "metadata": {
  "kernelspec": {
   "display_name": "Python 3",
   "language": "python",
   "name": "python3"
  },
  "language_info": {
   "codemirror_mode": {
    "name": "ipython",
    "version": 3
   },
   "file_extension": ".py",
   "mimetype": "text/x-python",
   "name": "python",
   "nbconvert_exporter": "python",
   "pygments_lexer": "ipython3",
   "version": "3.7.9"
  }
 },
 "nbformat": 4,
 "nbformat_minor": 4
}
