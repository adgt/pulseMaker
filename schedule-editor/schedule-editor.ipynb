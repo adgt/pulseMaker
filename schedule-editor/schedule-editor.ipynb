{
 "cells": [
  {
   "cell_type": "code",
   "execution_count": 1,
   "metadata": {},
   "outputs": [],
   "source": [
    "%config InlineBackend.figure_format = 'svg'\n",
    "from pulseviz import ScheduleEditor"
   ]
  },
  {
   "cell_type": "code",
   "execution_count": 2,
   "metadata": {
    "scrolled": false
   },
   "outputs": [
    {
     "data": {
      "application/vnd.jupyter.widget-view+json": {
       "model_id": "975f06f838034770b36395eee488ac38",
       "version_major": 2,
       "version_minor": 0
      },
      "text/plain": [
       "ScheduleEditor(children=(HBox(children=(VBox(children=(Label(value='Backend:'), Dropdown(layout=Layout(width='…"
      ]
     },
     "metadata": {},
     "output_type": "display_data"
    },
    {
     "name": "stdout",
     "output_type": "stream",
     "text": [
      "chan: d0 start time of last pulse elem: 672\n",
      "chan: d0 length of last pulse elem 160\n",
      "chan: d1 start time of last pulse elem: 832\n",
      "chan: d1 length of last pulse elem 512\n",
      "chan: u0 start time of last pulse elem: 832\n",
      "chan: u0 length of last pulse elem 512\n",
      "chan: u0 sample is self.sample 1344\n",
      "chan: d0 start time of last pulse elem: 1493\n",
      "chan: d0 length of last pulse elem 160\n",
      "chan: d0 sample is self.sample 1653\n"
     ]
    }
   ],
   "source": [
    "sch = ScheduleEditor()\n",
    "sch"
   ]
  },
  {
   "cell_type": "code",
   "execution_count": 3,
   "metadata": {},
   "outputs": [],
   "source": [
    "import numpy as np\n",
    "samples = 501\n",
    "#samples = 7\n",
    "real_pulse = np.linspace(0,0.3,samples)\n",
    "imag_pulse = -np.append(np.linspace(0,0.2,int(np.floor(samples/2))),np.linspace(0.2,0,samples-int(np.floor(samples/2))))\n",
    "real_pulse + 1j*imag_pulse\n",
    "sch.dummy_pulse = real_pulse + 1j*imag_pulse"
   ]
  },
  {
   "cell_type": "code",
   "execution_count": 4,
   "metadata": {},
   "outputs": [
    {
     "data": {
      "text/plain": [
       "1781"
      ]
     },
     "execution_count": 4,
     "metadata": {},
     "output_type": "execute_result"
    }
   ],
   "source": [
    "1141+640"
   ]
  },
  {
   "cell_type": "code",
   "execution_count": 8,
   "metadata": {},
   "outputs": [
    {
     "data": {
      "text/plain": [
       "{'d0': 1653, 'd1': 1344, 'u0': 1344, 'u1': 501}"
      ]
     },
     "execution_count": 8,
     "metadata": {},
     "output_type": "execute_result"
    }
   ],
   "source": [
    "sch.samples"
   ]
  },
  {
   "cell_type": "code",
   "execution_count": 6,
   "metadata": {},
   "outputs": [
    {
     "data": {
      "text/plain": [
       "{}"
      ]
     },
     "execution_count": 6,
     "metadata": {},
     "output_type": "execute_result"
    }
   ],
   "source": [
    "sch.samples"
   ]
  },
  {
   "cell_type": "code",
   "execution_count": 7,
   "metadata": {},
   "outputs": [
    {
     "data": {
      "text/plain": [
       "{}"
      ]
     },
     "execution_count": 7,
     "metadata": {},
     "output_type": "execute_result"
    }
   ],
   "source": [
    "sch.freqs"
   ]
  }
 ],
 "metadata": {
  "kernelspec": {
   "display_name": "Python 3",
   "language": "python",
   "name": "python3"
  },
  "language_info": {
   "codemirror_mode": {
    "name": "ipython",
    "version": 3
   },
   "file_extension": ".py",
   "mimetype": "text/x-python",
   "name": "python",
   "nbconvert_exporter": "python",
   "pygments_lexer": "ipython3",
   "version": "3.7.6"
  }
 },
 "nbformat": 4,
 "nbformat_minor": 4
}
