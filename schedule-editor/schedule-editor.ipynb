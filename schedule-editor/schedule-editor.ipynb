{
 "cells": [
  {
   "cell_type": "code",
   "execution_count": 1,
   "metadata": {},
   "outputs": [],
   "source": [
    "%config InlineBackend.figure_format = 'svg'\n",
    "from pulseviz import ScheduleEditor"
   ]
  },
  {
   "cell_type": "code",
   "execution_count": 2,
   "metadata": {
    "scrolled": false
   },
   "outputs": [
    {
     "data": {
      "application/vnd.jupyter.widget-view+json": {
       "model_id": "fb464ade174d474caecf513de067dc55",
       "version_major": 2,
       "version_minor": 0
      },
      "text/plain": [
       "HBox(children=(VBox(children=(Label(value='Backend:'), Dropdown(layout=Layout(width='auto'), options=('Armonk'…"
      ]
     },
     "metadata": {},
     "output_type": "display_data"
    },
    {
     "name": "stdout",
     "output_type": "stream",
     "text": [
      "['q0->q1', 'q1->q0', 'q1->q2', 'q1->q6', 'q2->q1', 'q2->q3', 'q3->q2', 'q3->q4', 'q3->q8', 'q4->q3', 'q5->q6', 'q5->q10', 'q6->q1', 'q6->q5', 'q6->q7', 'q7->q6', 'q7->q8', 'q7->q12', 'q8->q3', 'q8->q7', 'q8->q9', 'q9->q8', 'q9->q14', 'q10->q5', 'q10->q11', 'q11->q10', 'q11->q12', 'q11->q16', 'q12->q7', 'q12->q11', 'q12->q13', 'q13->q12', 'q13->q14', 'q13->q18', 'q14->q9', 'q14->q13', 'q15->q16', 'q16->q11', 'q16->q15', 'q16->q17', 'q17->q16', 'q17->q18', 'q18->q13', 'q18->q17', 'q18->q19', 'q19->q18']\n",
      "None\n",
      "['q0->q1', 'q1->q0', 'q1->q2', 'q1->q6', 'q2->q1', 'q2->q3', 'q3->q2', 'q3->q4', 'q4->q3', 'q5->q6', 'q6->q1', 'q6->q5']\n"
     ]
    }
   ],
   "source": [
    "sch = ScheduleEditor()\n",
    "sch"
   ]
  },
  {
   "cell_type": "code",
   "execution_count": 3,
   "metadata": {},
   "outputs": [],
   "source": [
    "import numpy as np\n",
    "samples = 501\n",
    "#samples = 7\n",
    "real_pulse = np.linspace(0,0.3,samples)\n",
    "imag_pulse = -np.append(np.linspace(0,0.2,int(np.floor(samples/2))),np.linspace(0.2,0,samples-int(np.floor(samples/2))))\n",
    "real_pulse + 1j*imag_pulse\n",
    "sch.dummy_pulse = real_pulse + 1j*imag_pulse"
   ]
  },
  {
   "cell_type": "code",
   "execution_count": 4,
   "metadata": {},
   "outputs": [
    {
     "data": {
      "text/plain": [
       "['q0', 'q0']"
      ]
     },
     "execution_count": 4,
     "metadata": {},
     "output_type": "execute_result"
    }
   ],
   "source": [
    "sch._current_qubits"
   ]
  },
  {
   "cell_type": "code",
   "execution_count": null,
   "metadata": {},
   "outputs": [],
   "source": []
  },
  {
   "cell_type": "code",
   "execution_count": 5,
   "metadata": {},
   "outputs": [
    {
     "data": {
      "text/plain": [
       "{}"
      ]
     },
     "execution_count": 5,
     "metadata": {},
     "output_type": "execute_result"
    }
   ],
   "source": [
    "sch.samples"
   ]
  },
  {
   "cell_type": "code",
   "execution_count": 6,
   "metadata": {},
   "outputs": [
    {
     "data": {
      "text/plain": [
       "{}"
      ]
     },
     "execution_count": 6,
     "metadata": {},
     "output_type": "execute_result"
    }
   ],
   "source": [
    "sch.freqs"
   ]
  }
 ],
 "metadata": {
  "kernelspec": {
   "display_name": "Python 3",
   "language": "python",
   "name": "python3"
  },
  "language_info": {
   "codemirror_mode": {
    "name": "ipython",
    "version": 3
   },
   "file_extension": ".py",
   "mimetype": "text/x-python",
   "name": "python",
   "nbconvert_exporter": "python",
   "pygments_lexer": "ipython3",
   "version": "3.7.6"
  }
 },
 "nbformat": 4,
 "nbformat_minor": 4
}
