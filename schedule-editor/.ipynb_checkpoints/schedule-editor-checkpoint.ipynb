{
 "cells": [
  {
   "cell_type": "code",
   "execution_count": 1,
   "metadata": {},
   "outputs": [],
   "source": [
    "%config InlineBackend.figure_format = 'svg'\n",
    "from pulseviz import ScheduleEditor"
   ]
  },
  {
   "cell_type": "code",
   "execution_count": 2,
   "metadata": {},
   "outputs": [
    {
     "data": {
      "application/vnd.jupyter.widget-view+json": {
       "model_id": "bddf5987fd8c421db676f51f91da0b8e",
       "version_major": 2,
       "version_minor": 0
      },
      "text/plain": [
       "HBox(children=(VBox(children=(Label(value='Backend:'), Dropdown(layout=Layout(width='auto'), options=('Armonk'…"
      ]
     },
     "metadata": {},
     "output_type": "display_data"
    },
    {
     "name": "stdout",
     "output_type": "stream",
     "text": [
      "Phases: {'d0': [[0, 0]]}\n",
      "Frequencies: {}\n",
      "Pulses: {}\n",
      "Phases: {'d0': [[0, 0]]}\n",
      "Frequencies: {}\n",
      "Pulses: {}\n",
      "Phases: {'d0': [[0, 0]], 'u0': [[0, 0]]}\n",
      "Frequencies: {}\n",
      "Pulses: {}\n",
      "Phases: {'d0': [[0, 0]], 'u0': [[0, 0]]}\n",
      "Frequencies: {}\n",
      "Pulses: {}\n",
      "Phases: {'d0': [[0, 0]], 'u0': [[0, 0]], 'd1': [[0, 0]]}\n",
      "Frequencies: {}\n",
      "Pulses: {}\n"
     ]
    }
   ],
   "source": [
    "sch = ScheduleEditor()\n",
    "sch"
   ]
  },
  {
   "cell_type": "code",
   "execution_count": 3,
   "metadata": {},
   "outputs": [
    {
     "data": {
      "text/plain": [
       "{}"
      ]
     },
     "execution_count": 3,
     "metadata": {},
     "output_type": "execute_result"
    }
   ],
   "source": [
    "sch._phases"
   ]
  },
  {
   "cell_type": "code",
   "execution_count": 4,
   "metadata": {},
   "outputs": [
    {
     "data": {
      "text/plain": [
       "[[0, 0]]"
      ]
     },
     "execution_count": 4,
     "metadata": {},
     "output_type": "execute_result"
    }
   ],
   "source": [
    "aaa = {'d0': [[0, 0]]}\n",
    "phase_array = aaa['d0']\n",
    "phase_array"
   ]
  },
  {
   "cell_type": "code",
   "execution_count": 5,
   "metadata": {},
   "outputs": [
    {
     "data": {
      "text/plain": [
       "0"
      ]
     },
     "execution_count": 5,
     "metadata": {},
     "output_type": "execute_result"
    }
   ],
   "source": [
    "phase_array[-1][0]"
   ]
  },
  {
   "cell_type": "code",
   "execution_count": null,
   "metadata": {},
   "outputs": [],
   "source": []
  }
 ],
 "metadata": {
  "kernelspec": {
   "display_name": "Python 3",
   "language": "python",
   "name": "python3"
  },
  "language_info": {
   "codemirror_mode": {
    "name": "ipython",
    "version": 3
   },
   "file_extension": ".py",
   "mimetype": "text/x-python",
   "name": "python",
   "nbconvert_exporter": "python",
   "pygments_lexer": "ipython3",
   "version": "3.7.6"
  }
 },
 "nbformat": 4,
 "nbformat_minor": 4
}
