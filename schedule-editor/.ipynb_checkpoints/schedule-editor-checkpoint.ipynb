{
 "cells": [
  {
   "cell_type": "code",
   "execution_count": 1,
   "metadata": {},
   "outputs": [],
   "source": [
    "%config InlineBackend.figure_format = 'svg'\n",
    "from pulseviz import ScheduleEditor"
   ]
  },
  {
   "cell_type": "code",
   "execution_count": 2,
   "metadata": {},
   "outputs": [
    {
     "data": {
      "application/vnd.jupyter.widget-view+json": {
       "model_id": "01b55458a0b64e8aba21a5b3eb4a84dc",
       "version_major": 2,
       "version_minor": 0
      },
      "text/plain": [
       "HBox(children=(VBox(children=(Label(value='Backend:'), Dropdown(layout=Layout(width='auto'), options=('Armonk'…"
      ]
     },
     "metadata": {},
     "output_type": "display_data"
    },
    {
     "name": "stdout",
     "output_type": "stream",
     "text": [
      "Phases: {}\n",
      "Frequencies: {}\n",
      "Pulses: {}\n",
      "Phases: {'d0': [[0, 0]]}\n",
      "Frequencies: {}\n",
      "Pulses: {}\n",
      "Phases: {'d0': [[0, 0]], 'd1': [[0, 0]]}\n",
      "Frequencies: {}\n",
      "Pulses: {}\n",
      "Phases: {'d0': [[0, 0]], 'd1': [[0, 0]]}\n",
      "Frequencies: {}\n",
      "Pulses: {'d0': array([], dtype=float64)}\n",
      "Phases: {'d0': [[0, 0]], 'd1': [[0, 0]]}\n",
      "Frequencies: {}\n",
      "Pulses: {'d0': array([], dtype=float64)}\n",
      "Phases: {'d0': [[0, 0]], 'd1': [[0, 0]]}\n",
      "Frequencies: {}\n",
      "Pulses: {'d0': array([0. , 0.1, 0.2, 0.3, 0.4, 0.5, 0.6, 0.7, 0.8, 0.9, 1. ])}\n",
      "Phases: {'d0': [[0, 0]], 'd1': [[0, 0]]}\n",
      "Frequencies: {}\n",
      "Pulses: {'d0': array([0. , 0.1, 0.2, 0.3, 0.4, 0.5, 0.6, 0.7, 0.8, 0.9, 1. ]), 'd1': array([0. , 0.2, 0.4, 0.6, 0.8, 1. , 1.2, 1.4, 1.6, 1.8, 2. ])}\n"
     ]
    }
   ],
   "source": [
    "sch = ScheduleEditor()\n",
    "sch"
   ]
  },
  {
   "cell_type": "code",
   "execution_count": 6,
   "metadata": {},
   "outputs": [],
   "source": [
    "import numpy as np\n",
    "sch.dummy_pulse = np.linspace(0,2,11)"
   ]
  },
  {
   "cell_type": "code",
   "execution_count": 4,
   "metadata": {},
   "outputs": [
    {
     "data": {
      "text/plain": [
       "[[0, 0]]"
      ]
     },
     "execution_count": 4,
     "metadata": {},
     "output_type": "execute_result"
    }
   ],
   "source": [
    "aaa = {'d0': [[0, 0]]}\n",
    "phase_array = aaa['d0']\n",
    "phase_array"
   ]
  },
  {
   "cell_type": "code",
   "execution_count": 5,
   "metadata": {},
   "outputs": [
    {
     "data": {
      "text/plain": [
       "0"
      ]
     },
     "execution_count": 5,
     "metadata": {},
     "output_type": "execute_result"
    }
   ],
   "source": [
    "phase_array[-1][0]"
   ]
  },
  {
   "cell_type": "code",
   "execution_count": null,
   "metadata": {},
   "outputs": [],
   "source": []
  }
 ],
 "metadata": {
  "kernelspec": {
   "display_name": "Python 3",
   "language": "python",
   "name": "python3"
  },
  "language_info": {
   "codemirror_mode": {
    "name": "ipython",
    "version": 3
   },
   "file_extension": ".py",
   "mimetype": "text/x-python",
   "name": "python",
   "nbconvert_exporter": "python",
   "pygments_lexer": "ipython3",
   "version": "3.7.6"
  }
 },
 "nbformat": 4,
 "nbformat_minor": 4
}
