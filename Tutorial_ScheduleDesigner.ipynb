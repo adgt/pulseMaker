{
 "cells": [
  {
   "cell_type": "markdown",
   "metadata": {},
   "source": [
    "# ScheduleDesigner - Tutorial\n",
    "\n",
    "`ScheduleDesigner` is an interactive tool to design pulse schedules for the control of multi-qubit superconducting quantum hardware.\n",
    "\n",
    "This notebook explains some of the main features of the tool, and how the data can be exported to other quantum hardware-level programming interfaces.\n",
    "\n",
    "### Running ScheduleDesigner\n",
    "\n",
    "To run the tool, execute the [first code cell](#code_cell). This should launch the widget as shown in the image below:\n",
    "\n",
    "\n",
    "<img src=\"images/scheduleDesigner_01.png\" align = \"Left\" width=\"850\"/>"
   ]
  },
  {
   "cell_type": "markdown",
   "metadata": {},
   "source": [
    "On the top left of the tool, you will find a drop-down menu to select the Backend on which the schedule is to be executed. Currently, only the following IBMQ backends are supported:\n",
    "\n",
    "| Backend     | # of qubits |\n",
    "| ----------- | ----------- |\n",
    "| Armonk      |     1       |\n",
    "| Almaden     |     20      |\n",
    "| Athens      |     5       |\n",
    "|Casablanca   |     7       |\n",
    "\n",
    "\n",
    "To the right of the backend selection, 5 toggle buttons provide the following appending options:\n",
    "\n",
    "- **From Gate** \n",
    "\n",
    "    Appends the pulse sequence for the gate selected in the drop-down menu right below the toggle button.\n",
    "\n",
    "\n",
    "- **Phase [$2\\pi$]** \n",
    "\n",
    "    Adds a phase shift of $2\\pi$ times the value entered in the box below the toggle buttons. So if, for example, a phase shift of $3\\pi/2$ is desired, a value of $(3\\pi/2)/(2\\pi) = 0.75$ should be added.\n",
    "\n",
    "\n",
    "- **Freq [GHz]** \n",
    "\n",
    "    Adds an explicit value of modulation frequency of the pulse to the value entered in the box (in units of GHz).\n",
    "\n",
    "\n",
    "- **From Pulse** \n",
    "\n",
    "    Imports an arbitrary waveform that can be pass to the tool by assigning a `numpy` array of complex amplitudes to the `.custom_pulse` attribute. See [**Example 1**](#ex1) below to learn how to generate the pulses using `PulseDesigner` and then import them into `ScheduleDesigner`.\n",
    "\n",
    "\n",
    "- **From Circuit**\n",
    "    \n",
    "    By assigning a a `QASM` circuit string to the `.circuit_qasm` attribute, the tool transpiles and builds schedule of the circuit using Qiskit's compiler's [transpile](https://qiskit.org/documentation/stubs/qiskit.compiler.transpile.html) and [schedule](https://qiskit.org/documentation/stubs/qiskit.compiler.schedule.html) functions (see [**Example 2**](#ex2) below for details).\n",
    "    \n",
    "The last item in the control panel is the \"append to\" drop-down menu. This allows selecting the channel or qubit to which we want to append any of the options described above."
   ]
  },
  {
   "cell_type": "markdown",
   "metadata": {},
   "source": [
    "To run the tool, execute the code below:\n",
    " <a id=\"code_cell\"></a>"
   ]
  },
  {
   "cell_type": "code",
   "execution_count": null,
   "metadata": {},
   "outputs": [],
   "source": [
    "%config InlineBackend.figure_format = 'svg'\n",
    "from pulsemaker import ScheduleDesigner\n",
    "schedule_d = ScheduleDesigner()\n",
    "schedule_d"
   ]
  },
  {
   "cell_type": "markdown",
   "metadata": {},
   "source": [
    "### Example 1: Constructing a Multi-Qubit Schedule using Gates, Phase Shifts and Pulses <a id=\"ex1\"></a>\n",
    "\n",
    "Let us start building a schedule by selecting the 5-qubit backend `Athens` from the backend drop-down menu.\n",
    "\n",
    "Now, append the pulse of a Hadamard gate to qubit 1 by selecting `H` from the \"From Gate\" drop-down menu, and then `q1` in the \"Append to\" menu. Then click the \"Append\" button. \n",
    "\n",
    "Next, let's append a CNOT gate from qubit 1 to qubit 0 by selecting `CX` from the \"From Gate\" drop-down menu, and then `q1 -> q0` in the \"Append to\" menu. Once again, click the \"Append\" button.\n",
    "\n",
    "At this point, the Schedule should look like this:\n",
    "\n",
    "<img src=\"images/scheduleDesigner_02.png\" align = \"Left\" width=\"850\"/>"
   ]
  },
  {
   "cell_type": "markdown",
   "metadata": {},
   "source": [
    "Since the `ScheduleDesigner` is a widget you can bring the same from above right here by executing the next cell."
   ]
  },
  {
   "cell_type": "code",
   "execution_count": null,
   "metadata": {},
   "outputs": [],
   "source": [
    "schedule_d"
   ]
  },
  {
   "cell_type": "markdown",
   "metadata": {},
   "source": [
    "Now let us add a customized pulse built using `PulseDesigner`. For this we need to run the tool:"
   ]
  },
  {
   "cell_type": "code",
   "execution_count": null,
   "metadata": {},
   "outputs": [],
   "source": [
    "from pulsemaker import PulseDesigner\n",
    "pulse_d = PulseDesigner()\n",
    "pulse_d"
   ]
  },
  {
   "cell_type": "markdown",
   "metadata": {},
   "source": [
    "Let's create a custom pulse by selecting `DRAG` from the In-Phase drop-down menu, and setting the following parameters:\n",
    "\n",
    "`Samples` = `160`\n",
    "\n",
    "`Sigma` = `25` \n",
    "\n",
    "`Amplitude` = `0.12`\n",
    "\n",
    "`Beta` = `0.2`\n",
    "\n",
    "Notice that the parameters for the Quadrature component simply track those of the In-phase values because the amplitude of the Gaussian Derivative is set as a factor of the In-phase signal given by `Beta`.\n",
    "\n",
    "The resulting waveform should look like this:\n",
    "\n",
    "<img src=\"images/scheduleDesigner_03.png\" align = \"Left\" width=\"800\"/>"
   ]
  },
  {
   "cell_type": "markdown",
   "metadata": {},
   "source": [
    "Now, to import this waveform into our Schedule, we need to assign it to its `.custom_pulse` attribute using the following line of code below:"
   ]
  },
  {
   "cell_type": "code",
   "execution_count": null,
   "metadata": {},
   "outputs": [],
   "source": [
    "schedule_d.custom_pulse = pulse_d.pulse"
   ]
  },
  {
   "cell_type": "markdown",
   "metadata": {},
   "source": [
    "Once we execute this, we can select the \"From Pulse\" button in `ScheduleDesigner`, and append it to, for example, the drive channel of qubit 0 by selecting `d0` from the \"Append to\" drop-down menu, and clicking the \"Append\" button.\n",
    "\n",
    "This process might seem a bit cumbersome, but it provides the flexibility of adding pulses not only from `PulseDesigner`, but just from a custom `numpy` array created by the user. For better integration, checkout [qonduit](https://github.com/adgt/qonduit), which combines both the `PulseDesigner` and the `ScheduleDesigner` into a single workflow.\n",
    "\n",
    "Since the `ScheduleDesigner` is a widget you can bring the same from above right here by executing the next cell."
   ]
  },
  {
   "cell_type": "code",
   "execution_count": null,
   "metadata": {},
   "outputs": [],
   "source": [
    "schedule_d"
   ]
  },
  {
   "cell_type": "markdown",
   "metadata": {},
   "source": [
    "Next, let us add a phase shift of, for example $\\pi$ radians by click on the \"Phase [$2\\pi$]\" toggle button, and entering `0.5` in the box right below. Then, click the \"Append\" button.\n",
    "\n",
    "Lastly, let's add an SX gate to qubit 2, by toggling back to \"From Gate\", selecting `SX` in the drop-down menu, and clicking the \"Append\" button after `q2` had been selected.\n",
    "\n",
    "Since the `ScheduleDesigner` is a widget you can bring the same from above right here by executing the next cell."
   ]
  },
  {
   "cell_type": "code",
   "execution_count": null,
   "metadata": {},
   "outputs": [],
   "source": [
    "schedule_d"
   ]
  },
  {
   "cell_type": "markdown",
   "metadata": {},
   "source": [
    "Our final schedule should look like this:\n",
    "\n",
    "<img src=\"images/scheduleDesigner_04.png\" align = \"Left\" width=\"850\"/>"
   ]
  },
  {
   "cell_type": "code",
   "execution_count": null,
   "metadata": {},
   "outputs": [],
   "source": []
  }
 ],
 "metadata": {
  "kernelspec": {
   "display_name": "Python 3",
   "language": "python",
   "name": "python3"
  },
  "language_info": {
   "codemirror_mode": {
    "name": "ipython",
    "version": 3
   },
   "file_extension": ".py",
   "mimetype": "text/x-python",
   "name": "python",
   "nbconvert_exporter": "python",
   "pygments_lexer": "ipython3",
   "version": "3.7.9"
  }
 },
 "nbformat": 4,
 "nbformat_minor": 4
}
