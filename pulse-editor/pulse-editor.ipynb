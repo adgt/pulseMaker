{
 "cells": [
  {
   "cell_type": "code",
   "execution_count": 1,
   "metadata": {},
   "outputs": [],
   "source": [
    "%matplotlib inline\n",
    "%config InlineBackend.figure_format = 'svg'\n",
    "import numpy as np\n",
    "import matplotlib.pyplot as plt\n",
    "import ipywidgets as widgets\n",
    "from IPython.display import display"
   ]
  },
  {
   "cell_type": "code",
   "execution_count": 2,
   "metadata": {},
   "outputs": [],
   "source": [
    "# Fuction that evaluates waveform equation depending on waveform type selection\n",
    "def wf_eq(wf_type, amp, width, t):\n",
    "    \n",
    "    samps = t.size\n",
    "    \n",
    "    if wf_type == 'Rect':\n",
    "        # Depending on what updates first (fig_out or width sliders) there is a\n",
    "        # change width could be temporarily smaller than # of samples, creating an error\n",
    "        # this shouldn't happen if there was only one .observe per widget, but since I am using\n",
    "        # .interative_output(). To fix this, need to strip that function and create my own where\n",
    "        # .observes() happen one by one (and only once) and call functions that update everything that\n",
    "        # needs to be updated by that widget.\n",
    "        # In the meantime, setting width=samps if width is smaller than samps is an easy fix.\n",
    "        if width > samps: \n",
    "            width = samps      \n",
    "        init_del = int(np.floor((samps-width)/2))\n",
    "        fin_del = samps-width-init_del\n",
    "        sig = np.zeros(init_del)\n",
    "        sig = np.append(sig,amp*np.ones(width))\n",
    "        sig = np.append(sig, np.zeros(fin_del))\n",
    "        \n",
    "    elif wf_type == 'Sine':\n",
    "        sig = amp*np.sin(2*np.pi*width*t-np.pi)\n",
    "        \n",
    "    elif wf_type == 'Cosine':\n",
    "        sig = amp*np.cos(2*np.pi*width*t-np.pi)\n",
    "        \n",
    "    elif wf_type == 'Gaussian':\n",
    "        sig = amp*np.exp(-1/2*((t-max(t)/2)/width)**2)\n",
    "        \n",
    "    elif wf_type == 'Gaussian Derivative':\n",
    "        sig = -(t-max(t)/2)*np.exp(-1/2*((t-max(t)/2)/width)**2)\n",
    "        sig = amp*sig/max(sig)\n",
    "        \n",
    "    else:\n",
    "        sig = np.zeros(samps)\n",
    "    return sig"
   ]
  },
  {
   "cell_type": "code",
   "execution_count": 3,
   "metadata": {},
   "outputs": [],
   "source": [
    "# function that generates waveforms depending on input selected\n",
    "def sig_gen(wf_in, i_wf, q_wf, samples, i_amp, q_amp, i_width, q_width):\n",
    "    \n",
    "    width = 1 # scaling in x. For sine/cos is equivalent to frequency\n",
    "    \n",
    "    t = np.linspace(0,samples,samples)\n",
    "    \n",
    "    if wf_in == 'Custom Waveform':\n",
    "        i_sig = wf_eq(i_wf,i_amp,i_width,t)\n",
    "        q_sig = wf_eq(q_wf,q_amp,q_width,t)\n",
    "    else:\n",
    "        i_sig = np.zeros(t.size)\n",
    "        q_sig = np.zeros(t.size)\n",
    "\n",
    "    return t, i_sig, q_sig"
   ]
  },
  {
   "cell_type": "code",
   "execution_count": 4,
   "metadata": {},
   "outputs": [],
   "source": [
    "# Function that returns maximum allowable quadrature amplitude\n",
    "def find_qamp_max(i_sign, q_sign):\n",
    "    '''\n",
    "    TO DO: This function is NOT general enough! There are still cases where qamp is too larg\n",
    "    Need to find the qmax for which the norm is < 0 throughout the whole samples span.\n",
    "    Probably need to find MAX of ABS of I and Q, look for indices at those locations (instead of just Q),\n",
    "    and then find q_max based on that.\n",
    "    For this, it is then important to pass the correct q_sign signal (not just a scaled ver of it)\n",
    "    '''\n",
    "    \n",
    "    q_max_val = max(abs(q_sign)) # Find maximum of the abs of quad signal (taking abs to account for minimum too)\n",
    "    q_max_ind = [i for i, x in enumerate(abs(q_sign)) if x == q_max_val] # indices of maxima in abs quad signal\n",
    "    \n",
    "    iamp_max = max(abs(i_sign[q_max_ind]))   # evaluate in-phase sig at indices of quad max,\n",
    "                                            # and find largest value\n",
    "    \n",
    "    qamp_max = np.sqrt(1-iamp_max**2)       # qamp max needed so norm of I and Q is not larger than 1\n",
    "    \n",
    "    return qamp_max"
   ]
  },
  {
   "cell_type": "code",
   "execution_count": 5,
   "metadata": {},
   "outputs": [],
   "source": [
    "# Waveform plotting function\n",
    "def plot_wf(wf_in, i_wf, q_wf, samples, i_amp, q_amp, i_width, q_width):\n",
    "    \n",
    "    t, i_sig, q_sig = sig_gen(wf_in, i_wf, q_wf, samples, i_amp, q_amp, i_width, q_width)\n",
    "    \n",
    "    fig, axs = plt.subplots(2, sharex=True)\n",
    "    axs[1].set_xlabel('time t/dt')\n",
    "    axs[0].set_ylabel('In-Phase Amplitude')\n",
    "    axs[1].set_ylabel('Quadrature Amplitude')\n",
    "    axs[0].set_xlim(0,samples)\n",
    "    axs[0].set_ylim(-(abs(i_amp)+0.1),abs(i_amp)+0.1)\n",
    "    axs[1].set_ylim(-(abs(q_amp)+0.1),abs(q_amp)+0.1)\n",
    "    axs[0].step(t, i_sig, 'r')\n",
    "    axs[1].step(t, q_sig, 'b')\n",
    "\n",
    "    '''\n",
    "    TO DO: \n",
    "    1. Need to decide how to set the min res of y axes (set_ylim) based on backend amp resolution\n",
    "    Also need to do yset_ticks so plot is not jumping around when changing amplitude\n",
    "    2. To update quadrature max amplitude, need info about the in-phase signal. Can't seem to be able\n",
    "    to get this info by using .interactive_output() and constructing the signals inside the passed function.\n",
    "    Therefore, might need to have the signal construction function outside, and pass numpy arrays thru \n",
    "    interactive_output() as fixed widgets (might be better this way). \n",
    "    '''"
   ]
  },
  {
   "cell_type": "code",
   "execution_count": 6,
   "metadata": {},
   "outputs": [],
   "source": [
    "# Parameters\n",
    "backend_lst = ['Armonk', 'Almaden']                              # Backends that support Pulse\n",
    "input_lst = ['Import from Native', 'Import from Array', \n",
    "             'Custom Waveform']                                  # Waveform input options\n",
    "waveform_lst = ['Rect', 'Sine', 'Cosine', 'Gaussian', \n",
    "                'Gaussian Derivative','Gaussian Square','DRAG']  # Custom waveforms available\n",
    "\n",
    "'''TO DO: Find out what samples and amplitude resolution is for each backend'''\n",
    "amp_res_val = 0.01 # Amplitude resolution\n",
    "samples_val = 640  # Number of initial samples\n",
    "\n",
    "i_sig_arr = np.zeros(samples_val)                  # Array with in-phase signal amplitudes\n",
    "q_sig_arr = np.zeros(samples_val)                  # Array with quadrature signal amplitudes\n",
    "\n",
    "\n",
    "### UI Left Panel (I/O) ###\n",
    "\n",
    "# Dropdown menu for backend\n",
    "backend_dd = widgets.Dropdown(options=backend_lst, \n",
    "                              layout=widgets.Layout(width='auto'),\n",
    "                              continuous_update=False,\n",
    "                              disabled=False)\n",
    "\n",
    "# Dropdown menu for waveform input\n",
    "wf_in_dd = widgets.Dropdown(options=input_lst, \n",
    "                            layout=widgets.Layout(width='auto'),\n",
    "                            continuous_update=False,\n",
    "                            disabled=False)\n",
    "\n",
    "# Dropdown menu for type of in-phase wavefunction (enabled when custom waveform is selected)\n",
    "i_wf_dd = widgets.Dropdown(options=waveform_lst, \n",
    "                          layout=widgets.Layout(width='auto'),\n",
    "                          description='In-Phase:',\n",
    "                          continuous_update=False,\n",
    "                          disabled=True)\n",
    "\n",
    "# Dropdown menu for type of quadrature wavefunction (enabled when custom waveform is selected)\n",
    "q_wf_dd = widgets.Dropdown(options=waveform_lst,\n",
    "                          layout=widgets.Layout(width='auto'),\n",
    "                          description='Quadrature:',\n",
    "                          continuous_update=False,\n",
    "                          disabled=True)\n",
    "\n",
    "# Button to save pulse to array\n",
    "save_btn = widgets.Button(description='Save',\n",
    "                          icon='check',\n",
    "                          button_style='', # 'success', 'info', 'warning', 'danger' or ''\n",
    "                          disabled=False)\n",
    "\n",
    "\n",
    "# Combines all dropdown menus in a left panel\n",
    "left_panel = widgets.VBox([widgets.Label(\"Backend:\"), backend_dd,\n",
    "                           widgets.Label(\"Input:\"), wf_in_dd,\n",
    "                           widgets.Label(\"Waveform:\"), i_wf_dd, q_wf_dd,\n",
    "                           widgets.Label(\"Output:\"), \n",
    "                           widgets.HBox([widgets.Label(\"Save to \\'my_pulse\\\" \"),save_btn])])\n",
    "\n",
    "\n",
    "### UI Top Pannel Waveform Control (enabled when custom waveform is selected) ###\n",
    "\n",
    "# Slider to select number of samples\n",
    "'''TO DO: Need to check what the valid resolution is for pulse amplitudes for each backend, \n",
    "dont think there is a restriction though.'''\n",
    "samples_sldr = widgets.IntSlider(value=samples_val, \n",
    "                                 description='Samples:', \n",
    "                                 min=10, max=2*samples_val, step=2,\n",
    "                                 continuous_update=False,\n",
    "                                 disabled=True)\n",
    "\n",
    "# Slider for In-phase frequency,width,sigma (Get's updated depending on type of signal)\n",
    "i_width_sldr = widgets.IntSlider(value=np.floor(samples_val/2), \n",
    "                                 description='I Width', \n",
    "                                 min=1, max=100, step=1,\n",
    "                                 continuous_update=False,\n",
    "                                 disabled=True)\n",
    "\n",
    "# Slider for quadrature frequency,width,sigma (Get's updated depending on type of signal)\n",
    "q_width_sldr = widgets.IntSlider(value=np.floor(samples_val/2), \n",
    "                                 description='Q Width', \n",
    "                                 min=1, max=100, step=1,\n",
    "                                 continuous_update=False,\n",
    "                                 disabled=True)\n",
    "\n",
    "\n",
    "'''TO DO: maybe create dictionary containing different width options for ease of selection\n",
    "Need to decide if I need a \"delay/centering\" option.'''\n",
    "\n",
    "# Slider for in-phase amplitude (from -1 to 1)\n",
    "i_amp_sldr = widgets.FloatSlider(value=1, \n",
    "                                 description='I Amplitude', \n",
    "                                 min=-1, max=1, step=amp_res_val,\n",
    "                                 continuous_update=False,\n",
    "                                 disabled=True)\n",
    "\n",
    "# Slider for quadrature amplitude (Starts from -1 to 1, but gets updated based on value of in-phase amp)\n",
    "# This is because Pulse only accepts steps with max amplitude of R(I,Q) = 1\n",
    "q_amp_sldr = widgets.FloatSlider(value=0, \n",
    "                                 description='Q Amplitude', \n",
    "                                 min=-1, max=1, step=amp_res_val,\n",
    "                                 continuous_update=False,\n",
    "                                 disabled=True)\n",
    "\n",
    "\n",
    "# Combines time-related sliders in a box\n",
    "time_panel = widgets.HBox([i_width_sldr,q_width_sldr])\n",
    "\n",
    "# Combines amplitude sliders in a box\n",
    "amp_panel = widgets.HBox([i_amp_sldr,q_amp_sldr])\n",
    "\n",
    "\n",
    "\n",
    "# Top panel with all waveform control sliders\n",
    "top_panel = widgets.VBox([samples_sldr,time_panel,amp_panel])\n",
    "\n",
    "### Fixed parameters ###\n",
    "\n",
    "# fixed widget elements to manipulate in-phase and quadrature amplitude arrays\n",
    "i_sig_fxd = widgets.fixed(value=i_sig_arr)\n",
    "q_sig_fxd = widgets.fixed(value=q_sig_arr)\n",
    "\n",
    "# Maximum amplitude for quadrature signal. Needs to be interactive bc depends on in-phase amplitude\n",
    "q_amp_max_fxd = widgets.fixed(value=0.0)"
   ]
  },
  {
   "cell_type": "code",
   "execution_count": 7,
   "metadata": {},
   "outputs": [],
   "source": [
    "### UI interactions ###\n",
    "\n",
    "# Enable waveform editing when 'Custom Waveform' is selected as input\n",
    "def update_wf_dd_disabled(*args):\n",
    "    if wf_in_dd.value == 'Custom Waveform':\n",
    "        i_wf_dd.disabled = False\n",
    "        q_wf_dd.disabled = False\n",
    "        samples_sldr.disabled = False\n",
    "        i_amp_sldr.disabled = False\n",
    "        q_amp_sldr.disabled = False\n",
    "        i_width_sldr.disabled = False\n",
    "        q_width_sldr.disabled = False\n",
    "    else:\n",
    "        i_wf_dd.disabled = True\n",
    "        q_wf_dd.disabled = True\n",
    "        samples_sldr.disabled = True\n",
    "        i_amp_sldr.disabled = True\n",
    "        q_amp_sldr.disabled = True\n",
    "        i_width_sldr.disabled = True\n",
    "        q_width_sldr.disabled = True\n",
    "        \n",
    "wf_in_dd.observe(update_wf_dd_disabled, 'value')\n",
    "\n",
    "# Change number of min/max samples based on backend selected\n",
    "'''TO DO: Right now, min/max/value samples below were manually plugged in, \n",
    "but need to get them from actual backends.'''\n",
    "def update_samples(*args):\n",
    "    if backend_dd.value == 'Almaden':\n",
    "        samples_sldr.min = 10\n",
    "        samples_sldr.value = 160\n",
    "        samples_sldr.max = 320\n",
    "    if backend_dd.value == 'Armonk':\n",
    "        samples_sldr.min = 10\n",
    "        samples_sldr.value = 640\n",
    "        samples_sldr.max = 1280        \n",
    "\n",
    "backend_dd.observe(update_samples, 'value')\n",
    "\n",
    "\n",
    "# Updates max allowable value of Quadrature amplitude\n",
    "def update_qamp_max(*args):\n",
    "    if wf_in_dd.value == 'Custom Waveform':\n",
    "\n",
    "        # Here to calculate q_sig I am passing an arbitrary amplitude (10*amp_res_val) because q_sig is only needed\n",
    "        # to find the indices of the maxima of the currently-selected function. If I pass the current\n",
    "        # q_amp (q_amp_sldr.value), there is a change it will be zero and no correct maxima are found\n",
    "        t, i_sig, q_sig = sig_gen(wf_in_dd.value, i_wf_dd.value, q_wf_dd.value, \n",
    "                                  samples_sldr.value, i_amp_sldr.value, 10*amp_res_val,\n",
    "                                  i_width_sldr.value, q_width_sldr.value)\n",
    "\n",
    "        q_amp_max = find_qamp_max(i_sig,q_sig)\n",
    "\n",
    "        if q_amp_max < amp_res_val:\n",
    "            q_amp_sldr.value = 0\n",
    "            q_amp_sldr.disabled = True\n",
    "        else:\n",
    "            q_amp_sldr.max = q_amp_max\n",
    "            q_amp_sldr.min = -q_amp_max\n",
    "            q_amp_sldr.disabled = False\n",
    "\n",
    "\n",
    "wf_in_dd.observe(update_qamp_max, 'value')\n",
    "i_wf_dd.observe(update_qamp_max, 'value')\n",
    "q_wf_dd.observe(update_qamp_max, 'value')\n",
    "samples_sldr.observe(update_qamp_max, 'value')\n",
    "i_amp_sldr.observe(update_qamp_max, 'value')\n",
    "q_amp_sldr.observe(update_qamp_max, 'value')\n",
    "\n",
    "\n",
    "# Updates in-phase width/sigma/frequency slider\n",
    "def update_i_width_sldr(*args):\n",
    "    if i_wf_dd.value == 'Sine' or i_wf_dd.value == 'Cosine':\n",
    "        i_width_sldr.description='I Periods'\n",
    "        i_width_sldr.value = 1\n",
    "        i_width_sldr.min = 1\n",
    "        i_width_sldr.max = 10\n",
    "    elif i_wf_dd.value == 'Rect':\n",
    "        i_width_sldr.description='I Width'\n",
    "        i_width_sldr.value = np.floor(samples_sldr.value/2)\n",
    "        i_width_sldr.min = 1\n",
    "        i_width_sldr.max = samples_sldr.value\n",
    "    else:\n",
    "        i_width_sldr.description='I Sigma'\n",
    "        i_width_sldr.value = np.floor(samples_sldr.value/10)\n",
    "        i_width_sldr.min = 1\n",
    "        i_width_sldr.max = samples_sldr.value\n",
    "        \n",
    "i_wf_dd.observe(update_i_width_sldr, 'value')\n",
    "samples_sldr.observe(update_i_width_sldr, 'value')\n",
    "\n",
    "# Updates quadrature width/sigma/frequency slider\n",
    "def update_q_width_sldr(*args):\n",
    "    if q_wf_dd.value == 'Sine' or q_wf_dd.value == 'Cosine':\n",
    "        q_width_sldr.description='Q Periods'\n",
    "        q_width_sldr.value = 1\n",
    "        q_width_sldr.min = 1\n",
    "        q_width_sldr.max = 10\n",
    "    elif q_wf_dd.value == 'Rect':\n",
    "        q_width_sldr.description='Q Width'\n",
    "        q_width_sldr.value = np.floor(samples_sldr.value/2)\n",
    "        q_width_sldr.min = 1\n",
    "        q_width_sldr.max = samples_sldr.value\n",
    "    else:\n",
    "        q_width_sldr.description='Q Sigma'\n",
    "        q_width_sldr.value = np.floor(samples_sldr.value/10)\n",
    "        q_width_sldr.min = 1\n",
    "        q_width_sldr.max = samples_sldr.value\n",
    "\n",
    "\n",
    "q_wf_dd.observe(update_q_width_sldr, 'value')\n",
    "samples_sldr.observe(update_q_width_sldr, 'value')\n",
    "\n",
    "\n",
    "def on_button_clicked(b):\n",
    "    if wf_in_dd.value == 'Custom Waveform':\n",
    "        t, i_sig, q_sig = sig_gen(wf_in_dd.value, i_wf_dd.value, q_wf_dd.value, \n",
    "                                  samples_sldr.value, i_amp_sldr.value, q_amp_sldr.value,\n",
    "                                  i_width_sldr.value, q_width_sldr.value)\n",
    "        \n",
    "        b.my_pulse = i_sig + 1j*q_sig\n",
    "\n",
    "save_btn.on_click(on_button_clicked)\n",
    "\n",
    "# Interactive figure\n",
    "fig_out = widgets.interactive_output(plot_wf, \n",
    "                                     {'wf_in':wf_in_dd, \n",
    "                                      'i_wf':i_wf_dd, \n",
    "                                      'q_wf':q_wf_dd,\n",
    "                                      'samples':samples_sldr,\n",
    "                                      'i_amp':i_amp_sldr,\n",
    "                                      'q_amp':q_amp_sldr,\n",
    "                                      'i_width':i_width_sldr,\n",
    "                                      'q_width':q_width_sldr})\n",
    "fig_out.layout.height = '350px'\n",
    "\n",
    "# Combines top sliders and figure in right panel\n",
    "right_panel = widgets.VBox([top_panel,fig_out])"
   ]
  },
  {
   "cell_type": "code",
   "execution_count": 8,
   "metadata": {},
   "outputs": [
    {
     "data": {
      "application/vnd.jupyter.widget-view+json": {
       "model_id": "d6c8d6f619864985a08a49fac6dec9fc",
       "version_major": 2,
       "version_minor": 0
      },
      "text/plain": [
       "HBox(children=(VBox(children=(Label(value='Backend:'), Dropdown(layout=Layout(width='auto'), options=('Armonk'…"
      ]
     },
     "metadata": {},
     "output_type": "display_data"
    }
   ],
   "source": [
    "display(widgets.HBox([left_panel, right_panel]))"
   ]
  },
  {
   "cell_type": "code",
   "execution_count": 9,
   "metadata": {},
   "outputs": [
    {
     "ename": "AttributeError",
     "evalue": "'Button' object has no attribute 'my_pulse'",
     "output_type": "error",
     "traceback": [
      "\u001b[0;31m---------------------------------------------------------------------------\u001b[0m",
      "\u001b[0;31mAttributeError\u001b[0m                            Traceback (most recent call last)",
      "\u001b[0;32m<ipython-input-9-eb75e9ffaae9>\u001b[0m in \u001b[0;36m<module>\u001b[0;34m\u001b[0m\n\u001b[1;32m      1\u001b[0m \u001b[0;32mfrom\u001b[0m \u001b[0mqiskit\u001b[0m\u001b[0;34m.\u001b[0m\u001b[0mpulse\u001b[0m \u001b[0;32mimport\u001b[0m \u001b[0mlibrary\u001b[0m\u001b[0;34m\u001b[0m\u001b[0;34m\u001b[0m\u001b[0m\n\u001b[1;32m      2\u001b[0m \u001b[0;34m\u001b[0m\u001b[0m\n\u001b[0;32m----> 3\u001b[0;31m \u001b[0mmy_pulse\u001b[0m \u001b[0;34m=\u001b[0m \u001b[0msave_btn\u001b[0m\u001b[0;34m.\u001b[0m\u001b[0mmy_pulse\u001b[0m\u001b[0;34m\u001b[0m\u001b[0;34m\u001b[0m\u001b[0m\n\u001b[0m\u001b[1;32m      4\u001b[0m \u001b[0mpulse\u001b[0m \u001b[0;34m=\u001b[0m \u001b[0mlibrary\u001b[0m\u001b[0;34m.\u001b[0m\u001b[0mWaveform\u001b[0m\u001b[0;34m(\u001b[0m\u001b[0mmy_pulse\u001b[0m\u001b[0;34m,\u001b[0m \u001b[0mname\u001b[0m\u001b[0;34m=\u001b[0m\u001b[0;34m\"Waveform\"\u001b[0m\u001b[0;34m)\u001b[0m\u001b[0;34m\u001b[0m\u001b[0;34m\u001b[0m\u001b[0m\n\u001b[1;32m      5\u001b[0m \u001b[0mpulse\u001b[0m\u001b[0;34m.\u001b[0m\u001b[0mdraw\u001b[0m\u001b[0;34m(\u001b[0m\u001b[0;34m)\u001b[0m\u001b[0;34m\u001b[0m\u001b[0;34m\u001b[0m\u001b[0m\n",
      "\u001b[0;31mAttributeError\u001b[0m: 'Button' object has no attribute 'my_pulse'"
     ]
    }
   ],
   "source": [
    "from qiskit.pulse import library\n",
    "\n",
    "my_pulse = save_btn.my_pulse\n",
    "pulse = library.Waveform(my_pulse, name=\"Waveform\")\n",
    "pulse.draw()"
   ]
  },
  {
   "cell_type": "code",
   "execution_count": null,
   "metadata": {},
   "outputs": [],
   "source": []
  },
  {
   "cell_type": "code",
   "execution_count": null,
   "metadata": {},
   "outputs": [],
   "source": []
  },
  {
   "cell_type": "code",
   "execution_count": null,
   "metadata": {},
   "outputs": [],
   "source": []
  },
  {
   "cell_type": "code",
   "execution_count": null,
   "metadata": {},
   "outputs": [],
   "source": []
  },
  {
   "cell_type": "code",
   "execution_count": null,
   "metadata": {},
   "outputs": [],
   "source": []
  },
  {
   "cell_type": "code",
   "execution_count": null,
   "metadata": {},
   "outputs": [],
   "source": [
    "plt.step(np.linspace(0,save_btn.my_pulse.size,save_btn.my_pulse.size),np.real(save_btn.my_pulse),\n",
    "         np.linspace(0,save_btn.my_pulse.size,save_btn.my_pulse.size),np.imag(save_btn.my_pulse),\n",
    "         np.linspace(0,save_btn.my_pulse.size,save_btn.my_pulse.size),np.absolute(save_btn.my_pulse))"
   ]
  },
  {
   "cell_type": "code",
   "execution_count": null,
   "metadata": {},
   "outputs": [],
   "source": [
    "t1, i_sig1, q_sig1 = sig_gen(wf_in_dd.value, i_wf_dd.value, q_wf_dd.value, \n",
    "                              samples_sldr.value, i_amp_sldr.value, q_amp_sldr.value, i_width_sldr.value, q_width_sldr.value,)\n",
    "\n",
    "\n",
    "q_amp_max = find_qamp_max(i_sig1,q_sig1)\n",
    "q_amp_max"
   ]
  },
  {
   "cell_type": "code",
   "execution_count": null,
   "metadata": {},
   "outputs": [],
   "source": [
    "q_max_val = max(abs(q_sig1)) # Find maximum of the abs of quad signal (taking abs to account for minimum too)\n",
    "q_max_val"
   ]
  },
  {
   "cell_type": "code",
   "execution_count": null,
   "metadata": {},
   "outputs": [],
   "source": [
    "q_max_ind = [i for i, x in enumerate(abs(q_sig1)) if x == q_max_val] # indices of maxima in abs quad signal\n",
    "q_max_ind"
   ]
  },
  {
   "cell_type": "code",
   "execution_count": null,
   "metadata": {},
   "outputs": [],
   "source": [
    "iamp_max = max(abs(i_sig1[q_max_ind]))   # evaluate in-phase sig at indices of quad max,\n",
    "                                            # and find largest value\n",
    "iamp_max"
   ]
  },
  {
   "cell_type": "code",
   "execution_count": null,
   "metadata": {},
   "outputs": [],
   "source": [
    "np.sqrt(0.04752802165209142**2+0.998867339183008**2)"
   ]
  },
  {
   "cell_type": "code",
   "execution_count": null,
   "metadata": {},
   "outputs": [],
   "source": [
    "tim = np.linspace(0,640,640)\n",
    "ga = 1*np.exp(-((tim-640/2)/(2*10))**2)\n",
    "plt.plot(tim,ga)"
   ]
  },
  {
   "cell_type": "code",
   "execution_count": null,
   "metadata": {},
   "outputs": [],
   "source": [
    "tim = np.linspace(0,1280,1280)\n",
    "ga1 = 1*np.cos(2*np.pi*1*tim-np.pi)\n",
    "ga2 = 1*np.cos(2*np.pi*1*tim)\n",
    "plt.plot(tim,ga1, tim, ga2)"
   ]
  },
  {
   "cell_type": "code",
   "execution_count": null,
   "metadata": {},
   "outputs": [],
   "source": [
    "1*np.sin(2*np.pi*1*(tim[0]-max(tim)/3))"
   ]
  },
  {
   "cell_type": "code",
   "execution_count": null,
   "metadata": {},
   "outputs": [],
   "source": [
    "tim = np.linspace(0,129,129)\n",
    "widt = 2"
   ]
  },
  {
   "cell_type": "code",
   "execution_count": null,
   "metadata": {},
   "outputs": [],
   "source": [
    "init_del = int(np.floor((tim.size-widt)/2))\n",
    "fin_del = tim.size-widt-init_del"
   ]
  },
  {
   "cell_type": "code",
   "execution_count": null,
   "metadata": {},
   "outputs": [],
   "source": [
    "init_del"
   ]
  },
  {
   "cell_type": "code",
   "execution_count": null,
   "metadata": {},
   "outputs": [],
   "source": [
    "widt"
   ]
  },
  {
   "cell_type": "code",
   "execution_count": null,
   "metadata": {},
   "outputs": [],
   "source": [
    "fin_del"
   ]
  },
  {
   "cell_type": "code",
   "execution_count": null,
   "metadata": {},
   "outputs": [],
   "source": [
    "63+3+63"
   ]
  },
  {
   "cell_type": "code",
   "execution_count": null,
   "metadata": {},
   "outputs": [],
   "source": [
    "sig = np.zeros(init_del)"
   ]
  },
  {
   "cell_type": "code",
   "execution_count": null,
   "metadata": {},
   "outputs": [],
   "source": [
    "np.zeros(0)"
   ]
  },
  {
   "cell_type": "code",
   "execution_count": null,
   "metadata": {},
   "outputs": [],
   "source": [
    "tim = np.linspace(0,1280,1280)\n",
    "ga1 = -(tim-max(tim)/2)*np.exp(-1/2*((tim-max(tim)/2)/128)**2)\n",
    "ga1 = ga1/max(ga1)\n",
    "plt.plot(tim,ga1)"
   ]
  },
  {
   "cell_type": "code",
   "execution_count": null,
   "metadata": {},
   "outputs": [],
   "source": []
  }
 ],
 "metadata": {
  "kernelspec": {
   "display_name": "Python 3",
   "language": "python",
   "name": "python3"
  },
  "language_info": {
   "codemirror_mode": {
    "name": "ipython",
    "version": 3
   },
   "file_extension": ".py",
   "mimetype": "text/x-python",
   "name": "python",
   "nbconvert_exporter": "python",
   "pygments_lexer": "ipython3",
   "version": "3.7.6"
  }
 },
 "nbformat": 4,
 "nbformat_minor": 4
}
