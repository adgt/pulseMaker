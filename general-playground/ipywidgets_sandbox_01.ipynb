{
 "cells": [
  {
   "cell_type": "code",
   "execution_count": 1,
   "metadata": {},
   "outputs": [],
   "source": [
    "%matplotlib inline\n",
    "#%config InlineBackend.figure_format = 'svg'\n",
    "import numpy as np\n",
    "import matplotlib.pyplot as plt\n",
    "from ipywidgets import interactive, FloatSlider, Checkbox, interact, Layout, interactive_output, FloatSlider\n",
    "from qiskit import QuantumCircuit\n",
    "from qiskit.visualization import plot_bloch_multivector, plot_bloch_vector\n",
    "import qiskit.quantum_info as qi\n",
    "from qiskit.visualization.utils import _bloch_multivector_data\n",
    "from IPython.display import display\n",
    "\n",
    "#from utils import print_statevector"
   ]
  },
  {
   "cell_type": "code",
   "execution_count": 2,
   "metadata": {},
   "outputs": [
    {
     "data": {
      "application/vnd.jupyter.widget-view+json": {
       "model_id": "71c4c91d200044028fe73637a8d2d426",
       "version_major": 2,
       "version_minor": 0
      },
      "text/plain": [
       "interactive(children=(IntSlider(value=1, description='z', max=10), IntSlider(value=1, description='w', max=5, …"
      ]
     },
     "metadata": {},
     "output_type": "display_data"
    }
   ],
   "source": [
    "x = np.linspace(0,1,100)\n",
    "y = np.linspace(0,1,100)\n",
    "\n",
    "x,y = np.meshgrid(x,y)\n",
    "\n",
    "def f(A, B, C, D):\n",
    "    return D*np.sin(C*np.sqrt(A**2+B**2))\n",
    "\n",
    "def plotting(z=1, w=1):\n",
    "\n",
    "    z = f(x,y,z,w)\n",
    "\n",
    "    fig, axs = plt.subplots(1, 1, figsize=(16, 6))\n",
    "    im1 = axs.imshow(z, cmap='hot', interpolation='bilinear', vmin=-5, vmax=5)\n",
    "    axs.set_title('Magnitude')\n",
    "    fig.colorbar(im1, ax=axs)\n",
    "    \n",
    "interactive_plot = interactive(plotting, z=(0,10,1), w=(1,5,1))\n",
    "interactive_plot"
   ]
  },
  {
   "cell_type": "code",
   "execution_count": 3,
   "metadata": {},
   "outputs": [
    {
     "data": {
      "application/vnd.jupyter.widget-view+json": {
       "model_id": "e6005bf679c14803aa4790ae205179e9",
       "version_major": 2,
       "version_minor": 0
      },
      "text/plain": [
       "interactive(children=(FloatSlider(value=1.5707963267948966, description='theta', max=3.141592653589793, step=0…"
      ]
     },
     "metadata": {},
     "output_type": "display_data"
    }
   ],
   "source": [
    "def plot_bloch(theta,phi):\n",
    "    \n",
    "    alpha = np.cos(theta/2)\n",
    "    beta = np.exp(1j*phi)*np.sin(theta/2)\n",
    "    \n",
    "    sv = qi.Statevector([alpha,beta])\n",
    "    \n",
    "    bloch_data = _bloch_multivector_data(sv)\n",
    "\n",
    "    width, height = plt.figaspect(1)\n",
    "    figsize=(width, height)\n",
    "    fig = plt.figure(figsize=figsize)\n",
    "    ax = fig.add_subplot(1, 1, 1, projection='3d')\n",
    "\n",
    "    plot_bloch_vector(bloch_data[0], \"qubit \" + str(0), ax=ax,\n",
    "                      figsize=figsize)   \n",
    "    \n",
    "interactive_plot = interactive(plot_bloch, theta=(0,np.pi,np.pi/10), phi=(0,2*np.pi,np.pi/20))\n",
    "interactive_plot"
   ]
  },
  {
   "cell_type": "code",
   "execution_count": 4,
   "metadata": {},
   "outputs": [
    {
     "data": {
      "application/vnd.jupyter.widget-view+json": {
       "model_id": "d2a37e61cb174969b5da9ecc2761845e",
       "version_major": 2,
       "version_minor": 0
      },
      "text/plain": [
       "interactive(children=(FloatSlider(value=0.0, description='m', max=2.0, min=-2.0), FloatSlider(value=0.0, descr…"
      ]
     },
     "metadata": {},
     "output_type": "display_data"
    }
   ],
   "source": [
    "def f(m, b):\n",
    "    plt.figure(2)\n",
    "    x = np.linspace(-10, 10, num=1000)\n",
    "    plt.plot(x, m * x + b)\n",
    "    plt.ylim(-5, 5)\n",
    "    plt.show()\n",
    "\n",
    "interactive_plot = interactive(f, m=(-2.0, 2.0), b=(-3, 3, 0.5))\n",
    "output = interactive_plot.children[-1]\n",
    "output.layout.height = '350px'\n",
    "interactive_plot"
   ]
  },
  {
   "cell_type": "code",
   "execution_count": 5,
   "metadata": {},
   "outputs": [
    {
     "data": {
      "text/plain": [
       "{'_trait_values': {'_model_module': '@jupyter-widgets/output',\n",
       "  '_model_module_version': '1.0.0',\n",
       "  '_model_name': 'OutputModel',\n",
       "  '_view_count': None,\n",
       "  '_view_module': '@jupyter-widgets/output',\n",
       "  '_view_module_version': '1.0.0',\n",
       "  '_view_name': 'OutputView',\n",
       "  'msg_id': '',\n",
       "  'comm': <ipykernel.comm.comm.Comm at 0x7ffe49d02b90>,\n",
       "  'keys': ['_dom_classes',\n",
       "   '_model_module',\n",
       "   '_model_module_version',\n",
       "   '_model_name',\n",
       "   '_view_count',\n",
       "   '_view_module',\n",
       "   '_view_module_version',\n",
       "   '_view_name',\n",
       "   'layout',\n",
       "   'msg_id',\n",
       "   'outputs'],\n",
       "  '_dom_classes': (),\n",
       "  'layout': Layout(height='350px'),\n",
       "  'outputs': (),\n",
       "  '_display_callbacks': <ipywidgets.widgets.widget.CallbackDispatcher at 0x7ffe49d02910>,\n",
       "  '_property_lock': {}},\n",
       " '_trait_notifiers': {'comm': {'change': [<traitlets.traitlets.ObserveHandler at 0x7ffe4497df90>]}},\n",
       " '_trait_validators': {},\n",
       " '_cross_validation_lock': False,\n",
       " '_model_id': '635e67e40a9e4605b5cd00c1e4ed8557',\n",
       " '_Output__counter': 0}"
      ]
     },
     "execution_count": 5,
     "metadata": {},
     "output_type": "execute_result"
    }
   ],
   "source": [
    "output.__dict__"
   ]
  },
  {
   "cell_type": "code",
   "execution_count": 6,
   "metadata": {},
   "outputs": [
    {
     "data": {
      "application/vnd.jupyter.widget-view+json": {
       "model_id": "ddc52e15e8d842de9f6c88f13bdae3ca",
       "version_major": 2,
       "version_minor": 0
      },
      "text/plain": [
       "interactive(children=(FloatSlider(value=100000.0, continuous_update=False, description='i', max=10000000.0, mi…"
      ]
     },
     "metadata": {},
     "output_type": "display_data"
    }
   ],
   "source": [
    "def slow_function(i):\n",
    "    print(int(i),list(x for x in range(int(i)) if\n",
    "                str(x)==str(x)[::-1] and\n",
    "                str(x**2)==str(x**2)[::-1]))\n",
    "    return\n",
    "\n",
    "interact(slow_function,i=FloatSlider(min=1e5, max=1e7, step=1e5, continuous_update=False));"
   ]
  },
  {
   "cell_type": "code",
   "execution_count": 7,
   "metadata": {},
   "outputs": [
    {
     "data": {
      "application/vnd.jupyter.widget-view+json": {
       "model_id": "bea3b55e96a04319a7f96d7a8bbed0d6",
       "version_major": 2,
       "version_minor": 0
      },
      "text/plain": [
       "HBox(children=(VBox(children=(Button(description='correct', style=ButtonStyle()), Button(description='horse', …"
      ]
     },
     "metadata": {},
     "output_type": "display_data"
    }
   ],
   "source": [
    "from ipywidgets import Button, HBox, VBox\n",
    "\n",
    "words = ['correct', 'horse', 'battery', 'staple']\n",
    "items = [Button(description=w) for w in words]\n",
    "left_box = VBox([items[0], items[1]])\n",
    "right_box = VBox([items[2], items[3]])\n",
    "HBox([left_box, right_box])"
   ]
  },
  {
   "cell_type": "code",
   "execution_count": 8,
   "metadata": {},
   "outputs": [
    {
     "data": {
      "application/vnd.jupyter.widget-view+json": {
       "model_id": "912c1dfe3ef54aebaf62c4557dcb29ef",
       "version_major": 2,
       "version_minor": 0
      },
      "text/plain": [
       "interactive(children=(FloatSlider(value=0.0, description='a', max=1.0, min=-1.0), Dropdown(description='b', op…"
      ]
     },
     "metadata": {},
     "output_type": "display_data"
    }
   ],
   "source": [
    "def conditional_print(a, b):\n",
    "    if a >= 0.5:\n",
    "        print(b)\n",
    "\n",
    "w = interactive(conditional_print, a=(-1,1,0.1), b=['a','b','c'])\n",
    "w"
   ]
  },
  {
   "cell_type": "code",
   "execution_count": 9,
   "metadata": {},
   "outputs": [
    {
     "data": {
      "application/vnd.jupyter.widget-view+json": {
       "model_id": "cbed5dbb6f9b4efc9a0e78511df7bc92",
       "version_major": 2,
       "version_minor": 0
      },
      "text/plain": [
       "interactive(children=(FloatSlider(value=0.0, description='x', max=10.0, step=0.05), FloatSlider(value=5.0, des…"
      ]
     },
     "metadata": {},
     "output_type": "display_data"
    }
   ],
   "source": [
    "x_widget = FloatSlider(min=0.0, max=10.0, step=0.05)\n",
    "y_widget = FloatSlider(min=0.5, max=10.0, step=0.05, value=5.0)\n",
    "\n",
    "def update_x_range(*args):\n",
    "    x_widget.max = 2.0 * y_widget.value\n",
    "y_widget.observe(update_x_range, 'value')\n",
    "\n",
    "def printer(x, y):\n",
    "    print(x, y)\n",
    "interact(printer,x=x_widget, y=y_widget);"
   ]
  },
  {
   "cell_type": "code",
   "execution_count": 10,
   "metadata": {},
   "outputs": [
    {
     "data": {
      "application/vnd.jupyter.widget-view+json": {
       "model_id": "ff4f91cb0cb1486e81b66ed9913db0bc",
       "version_major": 2,
       "version_minor": 0
      },
      "text/plain": [
       "interactive(children=(FloatSlider(value=0.0, description='x', max=10.0, step=0.05), Checkbox(value=False, desc…"
      ]
     },
     "metadata": {},
     "output_type": "display_data"
    }
   ],
   "source": [
    "x_widget = FloatSlider(min=0.0, max=10.0, step=0.05)\n",
    "y_widget = Checkbox(value=False,description='Disable?')\n",
    "\n",
    "def update_x_disabled(*args):\n",
    "    if y_widget.value == True:\n",
    "        x_widget.disabled = True\n",
    "    else:\n",
    "         x_widget.disabled = False   \n",
    "y_widget.observe(update_x_disabled, 'value')\n",
    "\n",
    "def printer(x, y):\n",
    "    print(x)\n",
    "interact(printer,x=x_widget, y=y_widget);"
   ]
  },
  {
   "cell_type": "code",
   "execution_count": 11,
   "metadata": {},
   "outputs": [
    {
     "data": {
      "application/vnd.jupyter.widget-view+json": {
       "model_id": "2a80445879514757aa95c72ec202cd06",
       "version_major": 2,
       "version_minor": 0
      },
      "text/plain": [
       "VBox(children=(HBox(children=(IntSlider(value=1, description='amp', max=10, min=1), IntSlider(value=1, descrip…"
      ]
     },
     "metadata": {},
     "output_type": "display_data"
    }
   ],
   "source": [
    "def plot_function(amp=1,freq=1):\n",
    "\n",
    "    t = np.linspace(0,64,64)\n",
    "    i_sig = amp*np.sin(2*np.pi*freq*t)\n",
    "    q_sig = amp/10*np.cos(2*np.pi*freq*t)\n",
    "    \n",
    "    fig, axs = plt.subplots(2, sharex=True)\n",
    "    axs[1].set_xlabel('time')\n",
    "    axs[0].set_ylabel('In-Phase Amplitude')\n",
    "    axs[1].set_ylabel('Quadrature Amplitude')\n",
    "    axs[0].set_ylim(-amp*1.1,amp*1.1)\n",
    "    axs[1].set_ylim(-amp/10*1.1,amp/10*1.1)\n",
    "    axs[0].step(t, i_sig, 'b')\n",
    "    axs[1].step(t, q_sig, 'r')\n",
    "    \n",
    "widget=interactive(plot_function,amp=(1,10,1),freq=(1,5,1))\n",
    "controls = HBox(widget.children[:-1], layout = Layout(flex_flow='row wrap'))\n",
    "output = widget.children[-1]\n",
    "display(VBox([controls, output]))"
   ]
  },
  {
   "cell_type": "code",
   "execution_count": 12,
   "metadata": {},
   "outputs": [
    {
     "data": {
      "text/plain": [
       "(IntSlider(value=1, description='amp', max=10, min=1),\n",
       " IntSlider(value=1, description='freq', max=5, min=1))"
      ]
     },
     "execution_count": 12,
     "metadata": {},
     "output_type": "execute_result"
    }
   ],
   "source": [
    "widget.children[:-1]"
   ]
  },
  {
   "cell_type": "code",
   "execution_count": 13,
   "metadata": {},
   "outputs": [
    {
     "data": {
      "image/png": "[encoded data removed]",
      "text/plain": [
       "<Figure size 432x288 with 2 Axes>"
      ]
     },
     "metadata": {
      "needs_background": "light"
     },
     "output_type": "display_data"
    }
   ],
   "source": [
    "amp = FloatSlider(value=0.5,min=0.5,max=10,step=0.5)\n",
    "freq = FloatSlider(value=0.1,min=0.0,max=10,step=1)\n",
    "fig, axs = plt.subplots(2, sharex=True)\n",
    "\n",
    "def plot_function(amp,freq):\n",
    "\n",
    "    t = np.linspace(0,640,640)\n",
    "    i_sig = amp*np.sin(2*np.pi*freq*t)\n",
    "    q_sig = amp/10*np.cos(2*np.pi*freq*t)\n",
    "    \n",
    "    axs[1].set_xlabel('time')\n",
    "    axs[0].set_ylabel('In-Phase Amplitude')\n",
    "    axs[1].set_ylabel('Quadrature Amplitude')\n",
    "    axs[0].set_ylim(-amp*1.1,amp*1.1)\n",
    "    axs[1].set_ylim(-amp/10*1.1,amp/10*1.1)\n",
    "    axs[0].step(t, i_sig, 'b')\n",
    "    axs[1].step(t, q_sig, 'r')\n",
    "    display(fig)\n",
    "    \n",
    "figure_out = interactive_output(plot_function,{'amp': amp, 'freq': freq})\n",
    "controls = HBox([amp,freq], layout = Layout(flex_flow='row wrap'))"
   ]
  },
  {
   "cell_type": "code",
   "execution_count": 14,
   "metadata": {},
   "outputs": [
    {
     "data": {
      "application/vnd.jupyter.widget-view+json": {
       "model_id": "d8059cfb58a0437ab69752448aed19d5",
       "version_major": 2,
       "version_minor": 0
      },
      "text/plain": [
       "VBox(children=(HBox(children=(FloatSlider(value=0.5, max=10.0, min=0.5, step=0.5), FloatSlider(value=0.1, max=…"
      ]
     },
     "metadata": {},
     "output_type": "display_data"
    }
   ],
   "source": [
    "display(VBox([controls, figure_out]))"
   ]
  },
  {
   "cell_type": "code",
   "execution_count": 15,
   "metadata": {},
   "outputs": [
    {
     "ename": "NameError",
     "evalue": "name 'IntSlider' is not defined",
     "output_type": "error",
     "traceback": [
      "\u001b[0;31m---------------------------------------------------------------------------\u001b[0m",
      "\u001b[0;31mNameError\u001b[0m                                 Traceback (most recent call last)",
      "\u001b[0;32m<ipython-input-15-ee8acd03bd02>\u001b[0m in \u001b[0;36m<module>\u001b[0;34m\u001b[0m\n\u001b[0;32m----> 1\u001b[0;31m \u001b[0ma\u001b[0m \u001b[0;34m=\u001b[0m \u001b[0mIntSlider\u001b[0m\u001b[0;34m(\u001b[0m\u001b[0;34m)\u001b[0m\u001b[0;34m\u001b[0m\u001b[0;34m\u001b[0m\u001b[0m\n\u001b[0m\u001b[1;32m      2\u001b[0m \u001b[0mb\u001b[0m \u001b[0;34m=\u001b[0m \u001b[0mIntSlider\u001b[0m\u001b[0;34m(\u001b[0m\u001b[0;34m)\u001b[0m\u001b[0;34m\u001b[0m\u001b[0;34m\u001b[0m\u001b[0m\n\u001b[1;32m      3\u001b[0m \u001b[0mc\u001b[0m \u001b[0;34m=\u001b[0m \u001b[0mIntSlider\u001b[0m\u001b[0;34m(\u001b[0m\u001b[0;34m)\u001b[0m\u001b[0;34m\u001b[0m\u001b[0;34m\u001b[0m\u001b[0m\n\u001b[1;32m      4\u001b[0m \u001b[0mui\u001b[0m \u001b[0;34m=\u001b[0m \u001b[0mHBox\u001b[0m\u001b[0;34m(\u001b[0m\u001b[0;34m[\u001b[0m\u001b[0ma\u001b[0m\u001b[0;34m,\u001b[0m \u001b[0mb\u001b[0m\u001b[0;34m,\u001b[0m \u001b[0mc\u001b[0m\u001b[0;34m]\u001b[0m\u001b[0;34m)\u001b[0m\u001b[0;34m\u001b[0m\u001b[0;34m\u001b[0m\u001b[0m\n\u001b[1;32m      5\u001b[0m \u001b[0;32mdef\u001b[0m \u001b[0mf\u001b[0m\u001b[0;34m(\u001b[0m\u001b[0ma\u001b[0m\u001b[0;34m,\u001b[0m \u001b[0mb\u001b[0m\u001b[0;34m,\u001b[0m \u001b[0mc\u001b[0m\u001b[0;34m)\u001b[0m\u001b[0;34m:\u001b[0m\u001b[0;34m\u001b[0m\u001b[0;34m\u001b[0m\u001b[0m\n",
      "\u001b[0;31mNameError\u001b[0m: name 'IntSlider' is not defined"
     ]
    }
   ],
   "source": [
    "a = IntSlider()\n",
    "b = IntSlider()\n",
    "c = IntSlider()\n",
    "ui = HBox([a, b, c])\n",
    "def f(a, b, c):\n",
    "    print((a, b, c))\n",
    "\n",
    "out = interactive_output(f, {'a': a, 'b': b, 'c': c})\n",
    "\n",
    "display(ui, out)"
   ]
  },
  {
   "cell_type": "code",
   "execution_count": 16,
   "metadata": {},
   "outputs": [
    {
     "data": {
      "application/vnd.jupyter.widget-view+json": {
       "model_id": "3fd3cfcb72c04d3da128b1f77d7e1f57",
       "version_major": 2,
       "version_minor": 0
      },
      "text/plain": [
       "VBox(children=(IntSlider(value=0, continuous_update=False, description='Delayed'), IntText(value=0, descriptio…"
      ]
     },
     "metadata": {},
     "output_type": "display_data"
    }
   ],
   "source": [
    "import ipywidgets as widgets\n",
    "\n",
    "a = widgets.IntSlider(description=\"Delayed\", continuous_update=False)\n",
    "b = widgets.IntText(description=\"Delayed\", continuous_update=False)\n",
    "c = widgets.IntSlider(description=\"Continuous\", continuous_update=True)\n",
    "d = widgets.IntText(description=\"Continuous\", continuous_update=True)\n",
    "\n",
    "widgets.link((a, 'value'), (b, 'value'))\n",
    "widgets.link((a, 'value'), (c, 'value'))\n",
    "widgets.link((a, 'value'), (d, 'value'))\n",
    "widgets.VBox([a,b,c,d])"
   ]
  },
  {
   "cell_type": "code",
   "execution_count": 17,
   "metadata": {},
   "outputs": [],
   "source": [
    "def plot_wf(samples):\n",
    "    \n",
    "    amp = 1\n",
    "    freq = 1\n",
    "    \n",
    "    print(samples)\n",
    "    '''\n",
    "    t = np.linspace(0,samples,samples)\n",
    "    i_sig = amp*np.sin(2*np.pi*freq*t)\n",
    "    q_sig = amp/10*np.cos(2*np.pi*freq*t)\n",
    "    \n",
    "    fig, axs = plt.subplots(2, sharex=True)\n",
    "    axs[1].set_xlabel('time')\n",
    "    axs[0].set_ylabel('In-Phase Amplitude')\n",
    "    axs[1].set_ylabel('Quadrature Amplitude')\n",
    "    axs[0].set_xlim(0,samples)\n",
    "    axs[0].set_ylim(-amp*1.1,amp*1.1)\n",
    "    axs[1].set_ylim(-amp/10*1.1,amp/10*1.1)\n",
    "    axs[0].step(t, i_sig, 'b')\n",
    "    axs[1].step(t, q_sig, 'r')\n",
    "    '''"
   ]
  },
  {
   "cell_type": "code",
   "execution_count": 18,
   "metadata": {},
   "outputs": [
    {
     "data": {
      "application/vnd.jupyter.widget-view+json": {
       "model_id": "18d2e61596f043ee87d0e33cec1ef7da",
       "version_major": 2,
       "version_minor": 0
      },
      "text/plain": [
       "HBox(children=(VBox(children=(VBox(children=(IntSlider(value=640, description='Samples:', max=6400, min=10),))…"
      ]
     },
     "metadata": {},
     "output_type": "display_data"
    }
   ],
   "source": [
    "import ipywidgets as widgets\n",
    "\n",
    "# UI Top Pannel Waveform Control\n",
    "samples_sldr = widgets.IntSlider(value=640, \n",
    "                                 description='Samples:', \n",
    "                                 min=10, max=6400)\n",
    "\n",
    "top_panel = widgets.VBox([samples_sldr])\n",
    "\n",
    "\n",
    "fig_out = widgets.interactive_output(plot_wf, \n",
    "                                     {'samples':samples_sldr})\n",
    "\n",
    "right_panel = widgets.VBox([top_panel,fig_out])\n",
    "\n",
    "display(widgets.HBox([right_panel]))"
   ]
  },
  {
   "cell_type": "code",
   "execution_count": 19,
   "metadata": {},
   "outputs": [
    {
     "data": {
      "text/plain": [
       "[<matplotlib.lines.Line2D at 0x7ffe4aeb5f50>,\n",
       " <matplotlib.lines.Line2D at 0x7ffe4aec2190>]"
      ]
     },
     "execution_count": 19,
     "metadata": {},
     "output_type": "execute_result"
    },
    {
     "data": {
      "image/png": "[encoded data removed]",
      "text/plain": [
       "<Figure size 432x288 with 1 Axes>"
      ]
     },
     "metadata": {
      "needs_background": "light"
     },
     "output_type": "display_data"
    }
   ],
   "source": [
    "time = np.linspace(0,2,1001)\n",
    "sig1 = np.sin(2*np.pi*time)\n",
    "sig2 = np.sin(2*np.pi*time+np.pi)\n",
    "plt.plot(time,sig1,time,sig2)"
   ]
  },
  {
   "cell_type": "code",
   "execution_count": 20,
   "metadata": {},
   "outputs": [],
   "source": [
    "def plotty(sig):\n",
    "    \n",
    "    t = np.linspace(0,sig.size,sig.size)\n",
    "    \n",
    "    fig, axs = plt.subplots(2, sharex=True)\n",
    "    axs[1].set_xlabel('time')\n",
    "    axs[0].set_ylabel('In-Phase Amplitude')\n",
    "    axs[1].set_ylabel('Quadrature Amplitude')\n",
    "    axs[0].step(t, sig, 'b')\n",
    "    axs[1].step(t, 2*sig, 'r')"
   ]
  },
  {
   "cell_type": "code",
   "execution_count": 21,
   "metadata": {},
   "outputs": [],
   "source": [
    "def up_func(amp, freq, sig, check):\n",
    "    t = np.linspace(0,sig.size,sig.size)\n",
    "    if check == True:\n",
    "        sig = amp*np.sin(2*np.pi*freq*t)\n",
    "    else:\n",
    "        sig = amp*np.ones(t.size)\n",
    "    return sig"
   ]
  },
  {
   "cell_type": "code",
   "execution_count": 22,
   "metadata": {},
   "outputs": [
    {
     "data": {
      "application/vnd.jupyter.widget-view+json": {
       "model_id": "4176559868e545e38cd92e64f353e569",
       "version_major": 2,
       "version_minor": 0
      },
      "text/plain": [
       "Output()"
      ]
     },
     "metadata": {},
     "output_type": "display_data"
    },
    {
     "data": {
      "application/vnd.jupyter.widget-view+json": {
       "model_id": "6b137798e39148a89dfd1d2bd2429546",
       "version_major": 2,
       "version_minor": 0
      },
      "text/plain": [
       "IntSlider(value=1)"
      ]
     },
     "metadata": {},
     "output_type": "display_data"
    },
    {
     "data": {
      "application/vnd.jupyter.widget-view+json": {
       "model_id": "6dbba84e19ae467f9c7f2d516f1d3a5c",
       "version_major": 2,
       "version_minor": 0
      },
      "text/plain": [
       "IntSlider(value=1)"
      ]
     },
     "metadata": {},
     "output_type": "display_data"
    },
    {
     "data": {
      "application/vnd.jupyter.widget-view+json": {
       "model_id": "09fca3347eff4e79b50ebec833298f00",
       "version_major": 2,
       "version_minor": 0
      },
      "text/plain": [
       "Checkbox(value=False)"
      ]
     },
     "metadata": {},
     "output_type": "display_data"
    }
   ],
   "source": [
    "import ipywidgets as widgets\n",
    "\n",
    "samps = 1001\n",
    "\n",
    "amp = widgets.IntSlider(value=1)\n",
    "freq = widgets.IntSlider(value=1)\n",
    "sig = widgets.fixed(np.ones(samps))\n",
    "check = widgets.Checkbox(value=False)\n",
    "\n",
    "def update_sig(*args):\n",
    "    sig.value = up_func(amp.value,freq.value,sig.value,check.value)\n",
    "        \n",
    "amp.observe(update_sig, 'value')\n",
    "freq.observe(update_sig, 'value')\n",
    "check.observe(update_sig, 'value')\n",
    "\n",
    "figure_out = interactive_output(plotty,{'sig':sig})\n",
    "display(figure_out, amp, freq, check)"
   ]
  },
  {
   "cell_type": "code",
   "execution_count": null,
   "metadata": {},
   "outputs": [],
   "source": [
    "check.value"
   ]
  },
  {
   "cell_type": "code",
   "execution_count": null,
   "metadata": {},
   "outputs": [],
   "source": []
  },
  {
   "cell_type": "code",
   "execution_count": null,
   "metadata": {},
   "outputs": [],
   "source": []
  },
  {
   "cell_type": "code",
   "execution_count": null,
   "metadata": {},
   "outputs": [],
   "source": []
  },
  {
   "cell_type": "code",
   "execution_count": null,
   "metadata": {},
   "outputs": [],
   "source": []
  },
  {
   "cell_type": "code",
   "execution_count": null,
   "metadata": {},
   "outputs": [],
   "source": []
  },
  {
   "cell_type": "code",
   "execution_count": null,
   "metadata": {},
   "outputs": [],
   "source": []
  },
  {
   "cell_type": "code",
   "execution_count": 23,
   "metadata": {},
   "outputs": [
    {
     "data": {
      "application/vnd.jupyter.widget-view+json": {
       "model_id": "26717ef434a24beb83dda4439a735ea7",
       "version_major": 2,
       "version_minor": 0
      },
      "text/plain": [
       "HBox(children=(Text(value='', continuous_update=False, description='t1'), Text(value='', continuous_update=Fal…"
      ]
     },
     "metadata": {},
     "output_type": "display_data"
    },
    {
     "name": "stdout",
     "output_type": "stream",
     "text": [
      "result1 = ['hello']\n",
      "result2 = []\n",
      "result1 = ['hello']\n",
      "result2 = ['hi']\n"
     ]
    }
   ],
   "source": [
    "from ipywidgets import Text, HBox\n",
    "t1=Text(description='t1',continuous_update=False)\n",
    "t2=Text(description='t2',continuous_update=False)\n",
    "result1,result2 = [],[]\n",
    "\n",
    "def on_text(change):\n",
    "    n=change['owner'].description\n",
    "    exec('result'+n[1:]+'.append(change[\"new\"])') # could be generalized for any name of the kind\n",
    "    # [string+str(k) for k in range(kk)],  implying kk similarText widgets displayed in the page\n",
    "    print('result1 = {}\\nresult2 = {}'.format(result1,result2)) \n",
    "    # print('n = {}, change[\"new\"] = {}'.format(n,change['new']))\n",
    "t1.observe(on_text,'value',type= 'change')\n",
    "t2.observe(on_text,'value',type= 'change')\n",
    "h = HBox([t1,t2])\n",
    "h"
   ]
  },
  {
   "cell_type": "code",
   "execution_count": 28,
   "metadata": {},
   "outputs": [
    {
     "data": {
      "text/plain": [
       "'hello'"
      ]
     },
     "execution_count": 28,
     "metadata": {},
     "output_type": "execute_result"
    }
   ],
   "source": [
    "t1.value"
   ]
  },
  {
   "cell_type": "code",
   "execution_count": 33,
   "metadata": {},
   "outputs": [
    {
     "data": {
      "application/vnd.jupyter.widget-view+json": {
       "model_id": "552eb57575784b49a8afe02a7c8b116d",
       "version_major": 2,
       "version_minor": 0
      },
      "text/plain": [
       "HBox(children=(BoundedFloatText(value=4.9, description='Freq [GHz]:', layout=Layout(width='245px'), max=5.5, s…"
      ]
     },
     "metadata": {},
     "output_type": "display_data"
    }
   ],
   "source": [
    "import ipywidgets as widgets\n",
    "shiftfreq_input_fltxt = widgets.BoundedFloatText(value=4.9, min=0.0, max=5.5, step=0.001,\n",
    "                                                          layout=widgets.Layout(width='245px'),\n",
    "                                                          description='Freq [GHz]:',\n",
    "                                                          disabled=False)\n",
    "\n",
    "h = widgets.HBox([shiftfreq_input_fltxt])\n",
    "h"
   ]
  },
  {
   "cell_type": "code",
   "execution_count": 35,
   "metadata": {},
   "outputs": [
    {
     "data": {
      "text/plain": [
       "4.8"
      ]
     },
     "execution_count": 35,
     "metadata": {},
     "output_type": "execute_result"
    }
   ],
   "source": [
    "shiftfreq_input_fltxt.value"
   ]
  },
  {
   "cell_type": "code",
   "execution_count": null,
   "metadata": {},
   "outputs": [],
   "source": []
  }
 ],
 "metadata": {
  "kernelspec": {
   "display_name": "Python 3",
   "language": "python",
   "name": "python3"
  },
  "language_info": {
   "codemirror_mode": {
    "name": "ipython",
    "version": 3
   },
   "file_extension": ".py",
   "mimetype": "text/x-python",
   "name": "python",
   "nbconvert_exporter": "python",
   "pygments_lexer": "ipython3",
   "version": "3.7.6"
  }
 },
 "nbformat": 4,
 "nbformat_minor": 4
}
